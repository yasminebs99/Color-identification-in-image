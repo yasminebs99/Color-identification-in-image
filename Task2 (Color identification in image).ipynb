{
 "cells": [
  {
   "cell_type": "markdown",
   "id": "1a7b452d",
   "metadata": {},
   "source": [
    "### Import Libraries"
   ]
  },
  {
   "cell_type": "code",
   "execution_count": 73,
   "id": "5cd0c4f7",
   "metadata": {},
   "outputs": [],
   "source": [
    "import cv2\n",
    "import numpy as np\n",
    "from sklearn.cluster import KMeans\n",
    "import matplotlib.pyplot as plt"
   ]
  },
  {
   "cell_type": "markdown",
   "id": "b68f4bae",
   "metadata": {},
   "source": [
    "### Prepare the image"
   ]
  },
  {
   "cell_type": "code",
   "execution_count": 69,
   "id": "1c835cf8",
   "metadata": {},
   "outputs": [],
   "source": [
    "image = cv2.imread('color img.jpg')\n",
    "#image = cv2.imread(image_path)\n",
    "image = cv2.cvtColor(image, cv2.COLOR_BGR2RGB)\n",
    "pixels = image.reshape((-1, 3))\n",
    "pixels = np.float32(pixels)"
   ]
  },
  {
   "cell_type": "code",
   "execution_count": 114,
   "id": "f5301d71",
   "metadata": {},
   "outputs": [],
   "source": [
    "num_colors = 5"
   ]
  },
  {
   "cell_type": "markdown",
   "id": "f899006b",
   "metadata": {},
   "source": [
    "### K-means clustering"
   ]
  },
  {
   "cell_type": "code",
   "execution_count": 115,
   "id": "0dce7632",
   "metadata": {},
   "outputs": [],
   "source": [
    "clf = KMeans(n_clusters = num_colors)\n",
    "labels = clf.fit_predict(image.reshape(image.shape[0]*image.shape[1], 3))"
   ]
  },
  {
   "cell_type": "code",
   "execution_count": 116,
   "id": "cb4f73dc",
   "metadata": {},
   "outputs": [
    {
     "name": "stdout",
     "output_type": "stream",
     "text": [
      "counts Counter({4: 19727, 0: 10998, 1: 9722, 3: 7958, 2: 2125})\n"
     ]
    }
   ],
   "source": [
    "counts = Counter(labels)\n",
    "print('counts',counts)"
   ]
  },
  {
   "cell_type": "markdown",
   "id": "0c9d0d53",
   "metadata": {},
   "source": [
    "### Identify colors"
   ]
  },
  {
   "cell_type": "code",
   "execution_count": 120,
   "id": "b2173d5b",
   "metadata": {},
   "outputs": [
    {
     "name": "stdout",
     "output_type": "stream",
     "text": [
      "['#c9dee8', '#a0d937', '#142d14', '#6ba81c', '#2c6ba7']\n",
      "[array([201.89333874, 222.07269593, 232.26188786]), array([160.40380069, 217.66584834,  55.35533733]), array([20.32173095, 45.76105362, 20.19143932]), array([107.1606133 , 168.50735202,  28.51991957]), array([ 44.73619253, 107.93654222, 167.31811169])]\n"
     ]
    }
   ],
   "source": [
    "center_colors = clf.cluster_centers_\n",
    "# We get ordered colors by iterating through the keys\n",
    "ordered_colors = [center_colors[i] for i in counts.keys()]\n",
    "hex_colors = [ \"#{:02x}{:02x}{:02x}\".format(int(ordered_colors[i][0]), int(ordered_colors[i][1]), int(ordered_colors[i][2])) for i in counts.keys()]\n",
    "rgb_colors = [ordered_colors[i] for i in counts.keys()]\n",
    "print(hex_colors)\n",
    "print(rgb_colors)"
   ]
  },
  {
   "cell_type": "code",
   "execution_count": 123,
   "id": "9d831cf9",
   "metadata": {},
   "outputs": [],
   "source": [
    "color_names = ['light blue', 'light green', 'dark green', 'olivedrab', 'blue']"
   ]
  },
  {
   "cell_type": "markdown",
   "id": "aabd7291",
   "metadata": {},
   "source": [
    "### plot a pie chart"
   ]
  },
  {
   "cell_type": "code",
   "execution_count": 124,
   "id": "61c1e07d",
   "metadata": {},
   "outputs": [
    {
     "data": {
      "text/plain": [
       "([<matplotlib.patches.Wedge at 0x1a7c8018c70>,\n",
       "  <matplotlib.patches.Wedge at 0x1a7c80184f0>,\n",
       "  <matplotlib.patches.Wedge at 0x1a7c8018fd0>,\n",
       "  <matplotlib.patches.Wedge at 0x1a7c799c730>,\n",
       "  <matplotlib.patches.Wedge at 0x1a7c799c910>],\n",
       " [Text(0.9050999066672583, 0.6251353125131556, 'light blue'),\n",
       "  Text(-0.8369017005749286, 0.7138596105501366, 'light green'),\n",
       "  Text(-0.8741056524229647, -0.6677868734875098, 'dark green'),\n",
       "  Text(-0.31615798947018914, -1.0535863162048793, 'olivedrab'),\n",
       "  Text(0.8527116990216972, -0.6948976603439753, 'blue')])"
      ]
     },
     "execution_count": 124,
     "metadata": {},
     "output_type": "execute_result"
    },
    {
     "data": {
      "image/png": "[encoded data removed]",
      "text/plain": [
       "<Figure size 576x432 with 1 Axes>"
      ]
     },
     "metadata": {},
     "output_type": "display_data"
    }
   ],
   "source": [
    "plt.figure(figsize = (8, 6))\n",
    "plt.pie(counts.values(), labels = color_names, colors = hex_colors)\n"
   ]
  },
  {
   "cell_type": "code",
   "execution_count": null,
   "id": "7a1583f8",
   "metadata": {},
   "outputs": [],
   "source": []
  }
 ],
 "metadata": {
  "kernelspec": {
   "display_name": "Python 3 (ipykernel)",
   "language": "python",
   "name": "python3"
  },
  "language_info": {
   "codemirror_mode": {
    "name": "ipython",
    "version": 3
   },
   "file_extension": ".py",
   "mimetype": "text/x-python",
   "name": "python",
   "nbconvert_exporter": "python",
   "pygments_lexer": "ipython3",
   "version": "3.9.7"
  }
 },
 "nbformat": 4,
 "nbformat_minor": 5
}
